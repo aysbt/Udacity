{
  "nbformat": 4,
  "nbformat_minor": 0,
  "metadata": {
    "colab": {
      "name": "Pytorch_Fashion_MNIST_data.ipynb",
      "provenance": [],
      "include_colab_link": true
    },
    "kernelspec": {
      "name": "python3",
      "display_name": "Python 3"
    }
  },
  "cells": [
    {
      "cell_type": "markdown",
      "metadata": {
        "id": "view-in-github",
        "colab_type": "text"
      },
      "source": [
        "<a href=\"https://colab.research.google.com/github/aysbt/Udacity/blob/master/Pytorch_Fashion_MNIST_data.ipynb\" target=\"_parent\"><img src=\"https://colab.research.google.com/assets/colab-badge.svg\" alt=\"Open In Colab\"/></a>"
      ]
    },
    {
      "cell_type": "markdown",
      "metadata": {
        "id": "lFQ04RB8w4ba",
        "colab_type": "text"
      },
      "source": [
        "# **İmage Recognition using Pytorch with Fashion MNIST DataSet** \n",
        "\n",
        "The Fashion MNIST Datasets contain a set of  28x28 grayscale images of clotes. Our goal is building a neural network using Pytorch and then training the network to predict clothes.\n",
        "*italicized text*"
      ]
    },
    {
      "cell_type": "code",
      "metadata": {
        "id": "LetDAkbex3Qu",
        "colab_type": "code",
        "colab": {}
      },
      "source": [
        "#importing required libraries..\n",
        "import torch\n",
        "import numpy as np\n",
        "import torch.nn as nn\n",
        "import torch.optim as optim \n",
        "import torch.nn.functional as F\n",
        "from torchvision import datasets, transforms\n",
        "from torch.utils.data.sampler import  SubsetRandomSampler  #for validation test"
      ],
      "execution_count": 0,
      "outputs": []
    },
    {
      "cell_type": "markdown",
      "metadata": {
        "id": "eOOlHtgHygGc",
        "colab_type": "text"
      },
      "source": [
        "# **Load and Visualize the Data**"
      ]
    },
    {
      "cell_type": "code",
      "metadata": {
        "id": "--9rCNYRynEu",
        "colab_type": "code",
        "colab": {}
      },
      "source": [
        "#Define a transform to convert to images to tensor and normalize\n",
        "transform = transforms.Compose([transforms.ToTensor(),\n",
        "                               transforms.Normalize((0.5,),(0.5,),)]) #mean and std have to be sequences (e.g., tuples), therefore we should add a comma after the values\n",
        "                          \n",
        "#Load the data: train and test sets\n",
        "trainset = datasets.FashionMNIST('~/.pytorch/F_MNIST_data', download=True, train=True, transform=transform)\n",
        "testset = datasets.FashionMNIST('~/.pytorch/F_MNIST_data', download=True, train=False, transform=transform)\n",
        "\n",
        "#Preparin for validaion test\n",
        "indices = list(range(len(trainset)))\n",
        "np.random.shuffle(indices)\n",
        "#to get 20% of the train set\n",
        "split = int(np.floor(0.2 * len(trainset)))\n",
        "train_sample = SubsetRandomSampler(indices[:split])\n",
        "valid_sample = SubsetRandomSampler(indices[split:])\n",
        "\n",
        "#Data Loader\n",
        "trainloader = torch.utils.data.DataLoader(trainset, sampler=train_sample, batch_size=64)\n",
        "validloader = torch.utils.data.DataLoader(trainset, sampler=valid_sample, batch_size=64)\n",
        "testloader = torch.utils.data.DataLoader(testset, batch_size=64, shuffle=True)\n",
        "\n"
      ],
      "execution_count": 0,
      "outputs": []
    },
    {
      "cell_type": "markdown",
      "metadata": {
        "id": "nU-0ZOgF28It",
        "colab_type": "text"
      },
      "source": [
        "# **Visualize a Batch of Training Data**"
      ]
    },
    {
      "cell_type": "code",
      "metadata": {
        "id": "qn_Wlugz3BBZ",
        "colab_type": "code",
        "outputId": "f996127f-a679-4926-90f2-f876fcd1dab4",
        "colab": {
          "base_uri": "https://localhost:8080/",
          "height": 369
        }
      },
      "source": [
        "import matplotlib.pyplot as plt\n",
        "%matplotlib inline\n",
        "\n",
        "dataiter = iter(trainloader)\n",
        "images, labels = dataiter.next()\n",
        "\n",
        "\n",
        "fig = plt.figure(figsize=(15,5))\n",
        "for idx in np.arange(20):\n",
        "  # xticks=[], yticks=[] is empty to print the images without any ticks around them\n",
        "  #np.sqeeze : Remove single-dimensional entries from the shape of an array.\n",
        "  ax = fig.add_subplot(4, 20/4, idx+1, xticks=[], yticks=[])\n",
        "  ax.imshow(np.squeeze(images[idx]), cmap='gray')\n",
        "   # .item() gets the value contained in a Tensor\n",
        "  ax.set_title(labels[idx].item())\n",
        "  fig.tight_layout()"
      ],
      "execution_count": 82,
      "outputs": [
        {
          "output_type": "display_data",
          "data": {
            "image/png": "[encoded data removed]",
            "text/plain": [
              "<Figure size 1080x360 with 20 Axes>"
            ]
          },
          "metadata": {
            "tags": []
          }
        }
      ]
    },
    {
      "cell_type": "markdown",
      "metadata": {
        "id": "ppvW9TvKrsDz",
        "colab_type": "text"
      },
      "source": [
        "# **Building the Network**"
      ]
    },
    {
      "cell_type": "code",
      "metadata": {
        "id": "QO55Bd-bwxch",
        "colab_type": "code",
        "colab": {}
      },
      "source": [
        "class Classifier(nn.Module):\n",
        "  def __init__(self):\n",
        "    super().__init__()\n",
        "    self.fc1 = nn.Linear(784, 256)\n",
        "    self.fc2 = nn.Linear(256, 128)\n",
        "    self.fc3 = nn.Linear(128,64)\n",
        "    self.fc4 = nn.Linear(64,10)\n",
        "    #defining the 20% dropout\n",
        "    self.dropout = nn.Dropout(0.2)\n",
        "\n",
        "  def forward(self,x):\n",
        "    x = x.view(x.shape[0],-1)\n",
        "    x = self.dropout(F.relu(self.fc1(x)))\n",
        "    x = self.dropout(F.relu(self.fc2(x)))\n",
        "    x = self.dropout(F.relu(self.fc3(x)))\n",
        "    #not using dropout on output layer\n",
        "    x = F.log_softmax(self.fc4(x), dim=1)\n",
        "    return x\n"
      ],
      "execution_count": 0,
      "outputs": []
    },
    {
      "cell_type": "code",
      "metadata": {
        "id": "z1486aRpuIFw",
        "colab_type": "code",
        "colab": {
          "base_uri": "https://localhost:8080/",
          "height": 655
        },
        "outputId": "cf7b86bc-22d6-4fb4-edc5-7d765cda2968"
      },
      "source": [
        "model = Classifier()\n",
        "#defining the loss function\n",
        "criterion = nn.NLLLoss()\n",
        "optimizer = optim.Adam(model.parameters(), lr=0.003)\n",
        "\n",
        "\n",
        "valid_loss_min = np.Inf #using this high value to make sure the update the weight first time\n",
        "epochs = 30\n",
        "steps = 0\n",
        "\n",
        "train_losses, test_losses, valid_losses = [],[],[]\n",
        "for e in range(epochs):\n",
        "  running_loss =0 \n",
        "  valid_loss = 0\n",
        "  for images, labels in trainloader:\n",
        "\n",
        "     optimizer.zero_grad()\n",
        "     log_ps = model(images)\n",
        "     loss = criterion(log_ps, labels)\n",
        "     loss.backward()\n",
        "     optimizer.step()\n",
        "     running_loss += loss.item()\n",
        "\n",
        "  for images, labels in validloader:\n",
        "     log_ps = model(images)\n",
        "     loss = criterion(log_ps, labels)\n",
        "     valid_loss += loss.item()*images.size(0)\n",
        "\n",
        "  running_loss = running_loss/len(trainloader.sampler)\n",
        "  valid_loss =  valid_loss/len(validloader.sampler)\n",
        "  train_losses.append(running_loss)\n",
        "  valid_losses.append(valid_loss)\n",
        "\n",
        "  print('Epoch: {} \\tTraining Loss: {:.6f} \\tValidation Loss: {:.6f}'.format(\n",
        "        e+1,\n",
        "        running_loss,\n",
        "        valid_loss\n",
        "    ))\n",
        "\n",
        "  if valid_loss <= valid_loss_min:\n",
        "      print('validation loss decreased({:.6f} -->{:.6f}). Saving Model ...'.format(valid_loss_min, valid_loss))\n",
        "      torch.save(model.state_dict(), 'model.pt')\n",
        "      valid_loss_min = valid_loss\n",
        "\n",
        "  \n",
        "\n",
        "\n"
      ],
      "execution_count": 84,
      "outputs": [
        {
          "output_type": "stream",
          "text": [
            "Epoch: 1 \tTraining Loss: 0.013084 \tValidation Loss: 0.626188\n",
            "validation loss decreased(inf -->0.626188). Saving Model ...\n",
            "Epoch: 2 \tTraining Loss: 0.009133 \tValidation Loss: 0.563672\n",
            "validation loss decreased(0.626188 -->0.563672). Saving Model ...\n",
            "Epoch: 3 \tTraining Loss: 0.008103 \tValidation Loss: 0.533712\n",
            "validation loss decreased(0.563672 -->0.533712). Saving Model ...\n",
            "Epoch: 4 \tTraining Loss: 0.007694 \tValidation Loss: 0.591513\n",
            "Epoch: 5 \tTraining Loss: 0.007525 \tValidation Loss: 0.509847\n",
            "validation loss decreased(0.533712 -->0.509847). Saving Model ...\n",
            "Epoch: 6 \tTraining Loss: 0.007069 \tValidation Loss: 0.497303\n",
            "validation loss decreased(0.509847 -->0.497303). Saving Model ...\n",
            "Epoch: 7 \tTraining Loss: 0.006856 \tValidation Loss: 0.502875\n",
            "Epoch: 8 \tTraining Loss: 0.006622 \tValidation Loss: 0.520244\n",
            "Epoch: 9 \tTraining Loss: 0.006364 \tValidation Loss: 0.491889\n",
            "validation loss decreased(0.497303 -->0.491889). Saving Model ...\n",
            "Epoch: 10 \tTraining Loss: 0.006446 \tValidation Loss: 0.491907\n",
            "Epoch: 11 \tTraining Loss: 0.006257 \tValidation Loss: 0.485864\n",
            "validation loss decreased(0.491889 -->0.485864). Saving Model ...\n",
            "Epoch: 12 \tTraining Loss: 0.006105 \tValidation Loss: 0.515380\n",
            "Epoch: 13 \tTraining Loss: 0.005989 \tValidation Loss: 0.493081\n",
            "Epoch: 14 \tTraining Loss: 0.005666 \tValidation Loss: 0.485709\n",
            "validation loss decreased(0.485864 -->0.485709). Saving Model ...\n",
            "Epoch: 15 \tTraining Loss: 0.005844 \tValidation Loss: 0.524412\n",
            "Epoch: 16 \tTraining Loss: 0.005655 \tValidation Loss: 0.533192\n",
            "Epoch: 17 \tTraining Loss: 0.005584 \tValidation Loss: 0.503887\n",
            "Epoch: 18 \tTraining Loss: 0.005563 \tValidation Loss: 0.496052\n",
            "Epoch: 19 \tTraining Loss: 0.005130 \tValidation Loss: 0.547576\n",
            "Epoch: 20 \tTraining Loss: 0.005228 \tValidation Loss: 0.500068\n",
            "Epoch: 21 \tTraining Loss: 0.005265 \tValidation Loss: 0.527761\n",
            "Epoch: 22 \tTraining Loss: 0.005192 \tValidation Loss: 0.525394\n",
            "Epoch: 23 \tTraining Loss: 0.005130 \tValidation Loss: 0.516036\n",
            "Epoch: 24 \tTraining Loss: 0.005099 \tValidation Loss: 0.499899\n",
            "Epoch: 25 \tTraining Loss: 0.004848 \tValidation Loss: 0.518393\n",
            "Epoch: 26 \tTraining Loss: 0.005066 \tValidation Loss: 0.511213\n",
            "Epoch: 27 \tTraining Loss: 0.004592 \tValidation Loss: 0.542648\n",
            "Epoch: 28 \tTraining Loss: 0.004772 \tValidation Loss: 0.513013\n",
            "Epoch: 29 \tTraining Loss: 0.004695 \tValidation Loss: 0.522869\n",
            "Epoch: 30 \tTraining Loss: 0.004663 \tValidation Loss: 0.536207\n"
          ],
          "name": "stdout"
        }
      ]
    },
    {
      "cell_type": "code",
      "metadata": {
        "id": "-yvGic0M05mh",
        "colab_type": "code",
        "colab": {
          "base_uri": "https://localhost:8080/",
          "height": 282
        },
        "outputId": "d8f0d340-6476-4da1-f4ad-2495bf01a286"
      },
      "source": [
        "plt.plot(train_losses, label='Train Loss')\n",
        "plt.plot(valid_losses, label='Valid Loss')\n",
        "\n",
        "plt.legend()"
      ],
      "execution_count": 85,
      "outputs": [
        {
          "output_type": "execute_result",
          "data": {
            "text/plain": [
              "<matplotlib.legend.Legend at 0x7f8a7e497550>"
            ]
          },
          "metadata": {
            "tags": []
          },
          "execution_count": 85
        },
        {
          "output_type": "display_data",
          "data": {
            "image/png": "[encoded data removed]",
            "text/plain": [
              "<Figure size 432x288 with 1 Axes>"
            ]
          },
          "metadata": {
            "tags": []
          }
        }
      ]
    }
  ]
}