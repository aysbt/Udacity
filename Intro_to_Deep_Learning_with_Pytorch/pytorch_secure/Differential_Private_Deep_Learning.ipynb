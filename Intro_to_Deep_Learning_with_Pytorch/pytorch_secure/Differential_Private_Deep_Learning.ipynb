{
 "cells": [
  {
   "cell_type": "markdown",
   "metadata": {},
   "source": [
    "# Differantial Private Deep Learning\n",
    "\n",
    "When our neural network are learning from sensitive data, that thay are only learning what they're supposed to learn from the data without accidentally learning they are not supposed to learn from the data.\n",
    "\n",
    "The general goal of differantial privacy is to ensure that different kind of statistical analysis do not compromise the privacy.\n",
    "\n",
    "The defination of Privacy: You will not affected, adversly on otherwise, by allowing your data to be used in any study on analysis, no matter what other studies,datasets, orinformation sources, are avaible.\n",
    "\n",
    "\n",
    "Exercise\n",
    "* Step one is to create our database - we're going to do this by initializing a random list of 1s and 0s (which are the entries in our database). Note - the number of entries directly corresponds to the number of people in our database.\n",
    "\n",
    "*  I want you to create a list of every parallel database to the one currently contained in the \"db\" variable. Then, I want you to create a function which both:\n",
    "\n",
    "    * creates the initial database (db)\n",
    "    * creates all parallel databases\n"
   ]
  },
  {
   "cell_type": "code",
   "execution_count": 21,
   "metadata": {},
   "outputs": [],
   "source": [
    "#function to crete a databse\n",
    "import torch\n",
    "def remove_index(db,index):\n",
    "    \"\"\"Remove the defined index from database\"\"\"\n",
    "    #removing the index\n",
    "    return torch.cat((db[0:index],db[index + 1:]))\n",
    "\n",
    "def paralle_db(db):\n",
    "    \"\"\"Create paralel data base for a given database with using remove_index function\"\"\"\n",
    "    #create the empty list for paralel databases\n",
    "    paralel_dbs = list()\n",
    "    #loop over the database\n",
    "    for i in range(len(db)):\n",
    "        #create the database for each removed index\n",
    "        dbs = remove_index(db,i)\n",
    "        #appande the removed databases to list of paralel databases\n",
    "        paralel_dbs.append(dbs)\n",
    "    return paralel_dbs\n",
    "\n",
    "def create_and_paralel(num_enrty):\n",
    "    \"\"\"Create simple database for a single column and then call the parael_db to create \"\"\"\n",
    "    #create the simple database for specific number \n",
    "    db = torch.rand(num_enrty) > 0.5\n",
    "    #call paralle_bd function to create paralal databases for spefic number of element\n",
    "    pbds = paralle_db(db)\n",
    "    return db, pbds\n",
    "    "
   ]
  },
  {
   "cell_type": "code",
   "execution_count": 17,
   "metadata": {},
   "outputs": [],
   "source": [
    "bd, pdbs = create_and_paralel(5000)"
   ]
  },
  {
   "cell_type": "code",
   "execution_count": 20,
   "metadata": {},
   "outputs": [
    {
     "name": "stdout",
     "output_type": "stream",
     "text": [
      "[tensor([1, 1, 0,  ..., 0, 0, 1], dtype=torch.uint8), tensor([1, 1, 0,  ..., 0, 0, 1], dtype=torch.uint8), tensor([1, 1, 0,  ..., 0, 0, 1], dtype=torch.uint8), tensor([1, 1, 1,  ..., 0, 0, 1], dtype=torch.uint8), tensor([1, 1, 1,  ..., 0, 0, 1], dtype=torch.uint8)]\n"
     ]
    }
   ],
   "source": [
    "#let's check out first 6 tenser list from pdbs\n",
    "print(pdbs[0:5])"
   ]
  },
  {
   "cell_type": "code",
   "execution_count": null,
   "metadata": {},
   "outputs": [],
   "source": []
  }
 ],
 "metadata": {
  "kernelspec": {
   "display_name": "Python 3",
   "language": "python",
   "name": "python3"
  },
  "language_info": {
   "codemirror_mode": {
    "name": "ipython",
    "version": 3
   },
   "file_extension": ".py",
   "mimetype": "text/x-python",
   "name": "python",
   "nbconvert_exporter": "python",
   "pygments_lexer": "ipython3",
   "version": "3.7.2"
  }
 },
 "nbformat": 4,
 "nbformat_minor": 2
}
