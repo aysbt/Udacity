{
 "cells": [
  {
   "cell_type": "markdown",
   "metadata": {},
   "source": [
    "# Into to Deep learning with PyTorch\n",
    "\n",
    "# Lesson 2: Introduction to Neural Networks\n",
    "One neuron can’t do much on its own. Usually we will have many neurons labelled by indices k, i, j and activation flows between them via synapses with strengths wki, wij:\n",
    "\n",
    "![title](../../../Documents/screees_shoot/Screen Shot 2019-05-07 at 2.26.58 PM.png)\n",
    "\n",
    "### Perception Algoritm\n",
    "\n",
    "* start with random weights $w_1$ ...... $w_n$ .... b\n",
    "* For every misclassfred point $(x_1 - x_n):$\n",
    "    * if prediction is 0:\n",
    "        * For i =1 .... n \n",
    "            * change $w_i + \\alpha x_i$\n",
    "        * change b to b + $\\alpha$ \n",
    "    * if prediction is 1:\n",
    "        * for i=1 .... n\n",
    "            * change $w_i - \\alpha x_i$ \n",
    "        * change b to b - $\\alpha$ \n",
    "\n",
    "\n",
    "Recall that the perceptron step works as follows. For a point with coordinates $(p,q)(p,q)$, label yy, and prediction given by the equation \n",
    "\n",
    "\n",
    "$$y^\\^ = step(w_1 x_1 + w_2 x_2 + b)$$\n",
    "\n",
    "\n",
    "\n",
    "* If the point is correctly classified, do nothing.\n",
    "* If the point is classified positive, but it has a negative label, subtract $\\alpha p$,$ \\alpha q$, and $\\alpha$ from $w_1$, $w_2$,$b$ respectively.\n",
    "* If the point is classified negative, but it has a positive label, add $\\alpha p$, $\\alpha q$, and $\\alpha$ to $w_1$, $w_2$,and $b$ respectively.\n",
    "\n",
    "\n",
    "if we want to get separete the non-linear region, we need to use the error function. error function is simply something that tells us how for we are from the solution."
   ]
  },
  {
   "cell_type": "code",
   "execution_count": null,
   "metadata": {},
   "outputs": [],
   "source": []
  },
  {
   "cell_type": "code",
   "execution_count": null,
   "metadata": {},
   "outputs": [],
   "source": []
  },
  {
   "cell_type": "code",
   "execution_count": null,
   "metadata": {},
   "outputs": [],
   "source": []
  }
 ],
 "metadata": {
  "kernelspec": {
   "display_name": "Python 3",
   "language": "python",
   "name": "python3"
  },
  "language_info": {
   "codemirror_mode": {
    "name": "ipython",
    "version": 3
   },
   "file_extension": ".py",
   "mimetype": "text/x-python",
   "name": "python",
   "nbconvert_exporter": "python",
   "pygments_lexer": "ipython3",
   "version": "3.7.2"
  }
 },
 "nbformat": 4,
 "nbformat_minor": 2
}
